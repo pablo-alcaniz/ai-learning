{
 "cells": [
  {
   "cell_type": "code",
   "execution_count": 6,
   "metadata": {},
   "outputs": [],
   "source": [
    "import torch\n",
    "import torch.nn as nn\n",
    "import torch.optim as optim\n",
    "from torchvision import datasets, transforms"
   ]
  },
  {
   "cell_type": "code",
   "execution_count": 15,
   "metadata": {},
   "outputs": [],
   "source": [
    "## Definicion de la arquitectura del modelo\n",
    "class NeuralNetwork(nn.Module):\n",
    "    def __init__(self):\n",
    "        super(NeuralNetwork, self).__init__()\n",
    "        self.fc1 = nn.Linear(28*28, 20) #hidden layer 1\n",
    "        self.relu = nn.ReLU() #funcion de activacion relu\n",
    "        self.fc2 = nn.Linear(20, 10)  #hidden layer 2\n",
    "        self.sigmoid = nn.Sigmoid()\n",
    "    \n",
    "    def forward(self, x):\n",
    "        x = x.view(-1, 28*28) #el -1 hace que esa primera dimension se autoajuste en funcion de las otras\n",
    "        x = self.fc1(x)\n",
    "        x = self.relu(x)\n",
    "        x = self.fc2(x)\n",
    "        x = self.sigmoid(x)\n",
    "        return x\n"
   ]
  },
  {
   "cell_type": "code",
   "execution_count": 16,
   "metadata": {},
   "outputs": [],
   "source": [
    "# Carga de los datos\n",
    "transform = transforms.ToTensor()\n",
    "train_dataset = datasets.MNIST(\"./data\", train=True, download=True, transform=transforms.ToTensor())\n",
    "test_dataset = datasets.MNIST(\"./data\", train=False, download=True, transform=transform)"
   ]
  },
  {
   "cell_type": "code",
   "execution_count": 17,
   "metadata": {},
   "outputs": [],
   "source": [
    "# Procesado de los datos\n",
    "train_loader = torch.utils.data.DataLoader(train_dataset, batch_size=128, shuffle=True)\n",
    "test_loader = torch.utils.data.DataLoader(test_dataset, batch_size=128, shuffle=False)"
   ]
  },
  {
   "cell_type": "code",
   "execution_count": 18,
   "metadata": {},
   "outputs": [],
   "source": [
    "# Configuración del dispositivo\n",
    "device = torch.device(\"cuda\" if torch.cuda.is_available() else \"cpu\")\n",
    "network = NeuralNetwork().to(device)"
   ]
  },
  {
   "cell_type": "code",
   "execution_count": 26,
   "metadata": {},
   "outputs": [],
   "source": [
    "# Optimozador y funcion de perdida\n",
    "optimizer = optim.Adam(network.parameters(), lr=0.01, betas=(0.9, 0.99))\n",
    "loss_criterion = nn.CrossEntropyLoss()"
   ]
  },
  {
   "cell_type": "code",
   "execution_count": 27,
   "metadata": {},
   "outputs": [],
   "source": [
    "# Funcion de entrenamiento\n",
    "def train(network, device, train_loader, optimizer, epoch):\n",
    "    network.train()\n",
    "    for batch_id, (data, label) in enumerate(train_loader):\n",
    "        data, label = data.to(device), label.to(device)\n",
    "        optimizer.zero_grad()\n",
    "        output = network(data)\n",
    "        loss = loss_criterion(output, label)\n",
    "        loss.backward()\n",
    "        optimizer.step()\n",
    "        if batch_id % 100 == 0:\n",
    "            print(f\"Epoch {epoch} [{batch_id * len(data)}/{len(train_loader.dataset)}] Loss: {loss.item():6f}\")"
   ]
  },
  {
   "cell_type": "code",
   "execution_count": 28,
   "metadata": {},
   "outputs": [],
   "source": [
    "# Funcion de testeo\n",
    "def test(model, device, test_loader):\n",
    "    model.eval()\n",
    "    test_loss = 0\n",
    "    correct = 0\n",
    "    with torch.no_grad():\n",
    "        for data, target in test_loader:\n",
    "            data, target = data.to(device), target.to(device)\n",
    "            output = model(data)\n",
    "            test_loss += loss_criterion(output, target).item()  # Suma de la pérdida\n",
    "            pred = output.argmax(dim=1, keepdim=True)        # Predicción: índice de la clase mayor probabilidad\n",
    "            correct += pred.eq(target.view_as(pred)).sum().item()\n",
    "    test_loss /= len(test_loader.dataset)\n",
    "    print(f\"\\nTest set: Average loss: {test_loss:.4f}, Accuracy: {correct}/{len(test_loader.dataset)} ({100. * correct / len(test_loader.dataset):.0f}%)\\n\")"
   ]
  },
  {
   "cell_type": "code",
   "execution_count": 29,
   "metadata": {},
   "outputs": [
    {
     "name": "stdout",
     "output_type": "stream",
     "text": [
      "Epoch 1 [0/60000] Loss: 1.490152\n",
      "Epoch 1 [12800/60000] Loss: 1.527799\n",
      "Epoch 1 [25600/60000] Loss: 1.506570\n",
      "Epoch 1 [38400/60000] Loss: 1.499510\n",
      "Epoch 1 [51200/60000] Loss: 1.538612\n",
      "\n",
      "Test set: Average loss: 0.0119, Accuracy: 9465/10000 (95%)\n",
      "\n"
     ]
    }
   ],
   "source": [
    "for epoch in range(1,2):\n",
    "    train(network, device, train_loader, optimizer, epoch)\n",
    "    test(network, device, test_loader)"
   ]
  }
 ],
 "metadata": {
  "kernelspec": {
   "display_name": ".venv",
   "language": "python",
   "name": "python3"
  },
  "language_info": {
   "codemirror_mode": {
    "name": "ipython",
    "version": 3
   },
   "file_extension": ".py",
   "mimetype": "text/x-python",
   "name": "python",
   "nbconvert_exporter": "python",
   "pygments_lexer": "ipython3",
   "version": "3.13.2"
  }
 },
 "nbformat": 4,
 "nbformat_minor": 2
}

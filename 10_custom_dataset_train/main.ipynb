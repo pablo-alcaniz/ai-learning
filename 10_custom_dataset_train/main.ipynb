{
 "cells": [
  {
   "cell_type": "code",
   "execution_count": 70,
   "id": "eb071f0c",
   "metadata": {},
   "outputs": [],
   "source": [
    "import numpy as np\n",
    "import matplotlib as plt\n",
    "import matplotlib.pyplot\n",
    "import matplotlib.axes\n",
    "import matplotlib.axis\n",
    "from matplotlib import contour"
   ]
  },
  {
   "cell_type": "code",
   "execution_count": 75,
   "id": "ba8a3908",
   "metadata": {},
   "outputs": [],
   "source": [
    "def database_gen():\n",
    "    #puntos\n",
    "    nx=100\n",
    "    ny=100\n",
    "    nt=100\n",
    "    #dimensiones\n",
    "    Lx=1.0\n",
    "    Ly=1.0\n",
    "    #tiempo total\n",
    "    T=1.0\n",
    "    #Generacion de datos\n",
    "    A=1.0\n",
    "    kx=2*np.pi\n",
    "    ky=2*np.pi\n",
    "    f_t=1.0\n",
    "    phi=0.0\n",
    "    sigma=0.05\n",
    "    seed=2\n",
    "    \n",
    "    channel_first=True\n",
    "    dtype=np.float32\n",
    "    \n",
    "    rng = np.random.default_rng(seed)\n",
    "    x = np.linspace(0, Lx, nx, dtype=dtype)\n",
    "    y = np.linspace(0, Ly, ny, dtype=dtype)\n",
    "    t = np.linspace(0, T, nt, dtype=dtype)\n",
    "    X, Y = np.meshgrid(x, y, indexing='xy')  # (ny, nx)\n",
    "\n",
    "    u = np.empty((nt, ny, nx), dtype=dtype)\n",
    "    v = np.empty((nt, ny, nx), dtype=dtype)\n",
    "    \n",
    "    for i, ti in enumerate(t): #bucle que recorre cada instante t \n",
    "        phase_t = 2*np.pi*f_t*ti\n",
    "        u_clean = A * np.sin(phase_t) * np.cos(kx*X) * np.cos(ky*Y)\n",
    "        v_clean = A * np.cos(phase_t + phi) * np.sin(kx*X) * np.sin(ky*Y)\n",
    "        u[i] = u_clean + rng.normal(0.0, sigma, size=(ny, nx))\n",
    "        v[i] = v_clean + rng.normal(0.0, sigma, size=(ny, nx))\n",
    "    \n",
    "    F = np.stack([u, v], axis=1)\n",
    "    \n",
    "    np.savez_compressed(\"campo_vel.npz\", F=F)\n",
    "    return F\n",
    "    "
   ]
  },
  {
   "cell_type": "markdown",
   "id": "9c133f4f",
   "metadata": {},
   "source": [
    "La manera en la que se genera el array de la database el F(tiempo, canal, pos. y, pos. x).\n",
    "Canales: 0 > u\n",
    "         1 > v"
   ]
  },
  {
   "cell_type": "code",
   "execution_count": 77,
   "id": "0d69031d",
   "metadata": {},
   "outputs": [],
   "source": [
    "F = database_gen()"
   ]
  },
  {
   "cell_type": "code",
   "execution_count": 83,
   "id": "2852c212",
   "metadata": {},
   "outputs": [
    {
     "name": "stdout",
     "output_type": "stream",
     "text": [
      "0.05106939\n"
     ]
    }
   ],
   "source": [
    "F.shape\n",
    "print(F[99,1,50,50])"
   ]
  }
 ],
 "metadata": {
  "kernelspec": {
   "display_name": "ai-learning (3.13.7)",
   "language": "python",
   "name": "python3"
  },
  "language_info": {
   "codemirror_mode": {
    "name": "ipython",
    "version": 3
   },
   "file_extension": ".py",
   "mimetype": "text/x-python",
   "name": "python",
   "nbconvert_exporter": "python",
   "pygments_lexer": "ipython3",
   "version": "3.13.7"
  }
 },
 "nbformat": 4,
 "nbformat_minor": 5
}

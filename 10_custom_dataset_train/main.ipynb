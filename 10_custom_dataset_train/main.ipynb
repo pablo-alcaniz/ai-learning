{
 "cells": [
  {
   "cell_type": "code",
   "execution_count": 2,
   "id": "eb071f0c",
   "metadata": {},
   "outputs": [],
   "source": [
    "import numpy as np\n",
    "import torch\n",
    "from torch.utils.data import Dataset, DataLoader"
   ]
  },
  {
   "cell_type": "code",
   "execution_count": 3,
   "id": "ba8a3908",
   "metadata": {},
   "outputs": [
    {
     "data": {
      "text/plain": [
       "(100, 2, 100, 100)"
      ]
     },
     "execution_count": 3,
     "metadata": {},
     "output_type": "execute_result"
    }
   ],
   "source": [
    "def database_gen():\n",
    "    #puntos\n",
    "    nx=100\n",
    "    ny=100\n",
    "    nt=100\n",
    "    #dimensiones\n",
    "    Lx=1.0\n",
    "    Ly=1.0\n",
    "    #tiempo total\n",
    "    T=1.0\n",
    "    #Generacion de datos\n",
    "    A=1.0\n",
    "    kx=2*np.pi\n",
    "    ky=2*np.pi\n",
    "    f_t=1.0\n",
    "    phi=0.0\n",
    "    sigma=0.05\n",
    "    seed=2\n",
    "    \n",
    "    channel_first=True\n",
    "    dtype=np.float32\n",
    "    \n",
    "    rng = np.random.default_rng(seed)\n",
    "    x = np.linspace(0, Lx, nx, dtype=dtype)\n",
    "    y = np.linspace(0, Ly, ny, dtype=dtype)\n",
    "    t = np.linspace(0, T, nt, dtype=dtype)\n",
    "    X, Y = np.meshgrid(x, y, indexing='xy')  # (ny, nx)\n",
    "\n",
    "    u = np.empty((nt, ny, nx), dtype=dtype)\n",
    "    v = np.empty((nt, ny, nx), dtype=dtype)\n",
    "    \n",
    "    for i, ti in enumerate(t): #bucle que recorre cada instante t \n",
    "        phase_t = 2*np.pi*f_t*ti\n",
    "        u_clean = A * np.sin(phase_t) * np.cos(kx*X) * np.cos(ky*Y)\n",
    "        v_clean = A * np.cos(phase_t + phi) * np.sin(kx*X) * np.sin(ky*Y)\n",
    "        u[i] = u_clean + rng.normal(0.0, sigma, size=(ny, nx))\n",
    "        v[i] = v_clean + rng.normal(0.0, sigma, size=(ny, nx))\n",
    "    \n",
    "    F = np.stack([u, v], axis=1)\n",
    "    \n",
    "    np.savez_compressed(\"campo_vel.npz\", F=F)\n",
    "    return F\n",
    "\n",
    "F = database_gen()\n",
    "F.shape"
   ]
  },
  {
   "cell_type": "markdown",
   "id": "9c133f4f",
   "metadata": {},
   "source": [
    "La manera en la que se genera el array de la database el F(tiempo, canal, pos. y, pos. x).\n",
    "Canales: 0 > u\n",
    "         1 > v"
   ]
  },
  {
   "cell_type": "code",
   "execution_count": 4,
   "id": "b17de5b0",
   "metadata": {},
   "outputs": [],
   "source": [
    "# Definimos la clase para transformar los datos a dataset\n",
    "\n",
    "class uv_data_2_dataset(Dataset): #vamos a devolver toda la informacion disponible en cada instante de tiempo: para cada t --> tensor (2, ny, nx)\n",
    "    def __init__(self, path_to_data, mmap=True, dtype=torch.float32):\n",
    "        self.raw_data = np.load(path_to_data, mmap_mode='r' if mmap else None) #la opción \"r\" evita cargar todo en RAM\n",
    "        self.F = self.raw_data[\"F\"]\n",
    "        assert self.F.ndim == 4 and self.F.shape[1] == 2 #comprobacion de dimensiones correctas\n",
    "        self.dtype = dtype\n",
    "        \n",
    "    def __len__(self): #tiene que devolver el numero de muestras disponobles para darle al DataLoader\n",
    "        return self.F.shape[0]\n",
    "    \n",
    "    def __getitem__(self, index): #esta es la funcion que le da los items al DataLoader. \n",
    "        f_np = self.F[index]\n",
    "        f = torch.from_numpy(f_np).to(self.dtype) #lo pasamos de numpy a torch y al type deseado\n",
    "        return f\n",
    "     \n",
    "        "
   ]
  },
  {
   "cell_type": "code",
   "execution_count": 9,
   "id": "cae2db7c",
   "metadata": {},
   "outputs": [],
   "source": [
    "# Cargamos los datos\n",
    "\n",
    "dataset_campo_velocidades = uv_data_2_dataset(\"campo_vel.npz\")\n",
    "\n",
    "data_load_campo_velocidades = DataLoader(\n",
    "    dataset_campo_velocidades, \n",
    "    batch_size=5,\n",
    "    shuffle=True,\n",
    "    num_workers=4\n",
    ")"
   ]
  },
  {
   "cell_type": "code",
   "execution_count": 6,
   "id": "ae36b794",
   "metadata": {},
   "outputs": [
    {
     "data": {
      "text/plain": [
       "torch.Size([10, 2, 100, 100])"
      ]
     },
     "execution_count": 6,
     "metadata": {},
     "output_type": "execute_result"
    }
   ],
   "source": [
    "batch = next(iter(data_load_campo_velocidades))\n",
    "batch.shape"
   ]
  },
  {
   "cell_type": "code",
   "execution_count": 12,
   "id": "217d0ed0",
   "metadata": {},
   "outputs": [
    {
     "name": "stdout",
     "output_type": "stream",
     "text": [
      "0\n",
      "torch.Size([5, 2, 100, 100])\n",
      "1\n",
      "torch.Size([5, 2, 100, 100])\n",
      "2\n",
      "torch.Size([5, 2, 100, 100])\n",
      "3\n",
      "torch.Size([5, 2, 100, 100])\n",
      "4\n",
      "torch.Size([5, 2, 100, 100])\n",
      "5\n",
      "torch.Size([5, 2, 100, 100])\n",
      "6\n",
      "torch.Size([5, 2, 100, 100])\n",
      "7\n",
      "torch.Size([5, 2, 100, 100])\n",
      "8\n",
      "torch.Size([5, 2, 100, 100])\n",
      "9\n",
      "torch.Size([5, 2, 100, 100])\n",
      "10\n",
      "torch.Size([5, 2, 100, 100])\n",
      "11\n",
      "torch.Size([5, 2, 100, 100])\n",
      "12\n",
      "torch.Size([5, 2, 100, 100])\n",
      "13\n",
      "torch.Size([5, 2, 100, 100])\n",
      "14\n",
      "torch.Size([5, 2, 100, 100])\n",
      "15\n",
      "torch.Size([5, 2, 100, 100])\n",
      "16\n",
      "torch.Size([5, 2, 100, 100])\n",
      "17\n",
      "torch.Size([5, 2, 100, 100])\n",
      "18\n",
      "torch.Size([5, 2, 100, 100])\n",
      "19\n",
      "torch.Size([5, 2, 100, 100])\n"
     ]
    }
   ],
   "source": [
    "for batch_id, F in enumerate(data_load_campo_velocidades):\n",
    "    print(batch_id)\n",
    "    print(F.shape)"
   ]
  }
 ],
 "metadata": {
  "kernelspec": {
   "display_name": "ai-learning (3.13.7)",
   "language": "python",
   "name": "python3"
  },
  "language_info": {
   "codemirror_mode": {
    "name": "ipython",
    "version": 3
   },
   "file_extension": ".py",
   "mimetype": "text/x-python",
   "name": "python",
   "nbconvert_exporter": "python",
   "pygments_lexer": "ipython3",
   "version": "3.13.7"
  }
 },
 "nbformat": 4,
 "nbformat_minor": 5
}

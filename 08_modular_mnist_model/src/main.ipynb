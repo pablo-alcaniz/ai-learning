{
 "cells": [
  {
   "cell_type": "code",
   "execution_count": null,
   "id": "b1bfec11",
   "metadata": {},
   "outputs": [],
   "source": [
    "import custom_lib as cl\n",
    "import torch\n",
    "import torch.nn as nn \n",
    "import torch.optim as optim \n",
    "from torchvision import datasets, transforms\n",
    "from torch.utils.data import DataLoader\n",
    "import matplotlib as plt\n",
    "import numpy as np\n",
    "import model as m \n"
   ]
  },
  {
   "cell_type": "code",
   "execution_count": null,
   "id": "d710821d",
   "metadata": {},
   "outputs": [],
   "source": []
  }
 ],
 "metadata": {
  "kernelspec": {
   "display_name": ".venv",
   "language": "python",
   "name": "python3"
  },
  "language_info": {
   "codemirror_mode": {
    "name": "ipython",
    "version": 3
   },
   "file_extension": ".py",
   "mimetype": "text/x-python",
   "name": "python",
   "nbconvert_exporter": "python",
   "pygments_lexer": "ipython3",
   "version": "3.13.3"
  }
 },
 "nbformat": 4,
 "nbformat_minor": 5
}
